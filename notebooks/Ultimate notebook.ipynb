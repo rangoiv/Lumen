{
 "cells": [
  {
   "cell_type": "markdown",
   "id": "ed52c6b7",
   "metadata": {},
   "source": [
    "# Lumen Data Science\n",
    "\n",
    "PyTissue"
   ]
  },
  {
   "cell_type": "markdown",
   "id": "2cbd8460",
   "metadata": {},
   "source": [
    "Update or install important libraries"
   ]
  },
  {
   "cell_type": "code",
   "execution_count": 44,
   "id": "ffef7f5e",
   "metadata": {},
   "outputs": [],
   "source": [
    "if False:\n",
    "    !pip install -Uqq fastai\n",
    "    !pip install -Uqq librosa"
   ]
  },
  {
   "cell_type": "code",
   "execution_count": null,
   "id": "8896ef55",
   "metadata": {},
   "outputs": [],
   "source": [
    "from fastai.data.all import *\n",
    "from fastai.vision.all import *\n",
    "import librosa\n",
    "import re\n",
    "import itertools\n",
    "import matplotlib.pyplot as plot\n",
    "sys.path.append('../')"
   ]
  },
  {
   "cell_type": "markdown",
   "id": "b5c2f94d",
   "metadata": {},
   "source": [
    "## Label getters"
   ]
  },
  {
   "cell_type": "code",
   "execution_count": 2,
   "id": "7d5b0488",
   "metadata": {},
   "outputs": [
    {
     "name": "stdout",
     "output_type": "stream",
     "text": [
      "(#2874) [Path('../Dataset/Dataset/IRMAS_Validation_Data/(02) dont kill the whale-1.wav'), Path('../Dataset/Dataset/IRMAS_Validation_Data/(02) dont kill the whale-11.wav'), Path('../Dataset/Dataset/IRMAS_Validation_Data/(02) dont kill the whale-12.wav'), Path('../Dataset/Dataset/IRMAS_Validation_Data/(02) dont kill the whale-13.wav'), Path('../Dataset/Dataset/IRMAS_Validation_Data/(02) dont kill the whale-14.wav'), Path('../Dataset/Dataset/IRMAS_Validation_Data/(02) dont kill the whale-15.wav')]\n"
     ]
    }
   ],
   "source": [
    "path = Path(\"../Dataset/Dataset/IRMAS_Validation_Data/\")\n",
    "get_song_files = FileGetter(extensions='.wav', recurse=True)\n",
    "files = get_song_files(path)\n",
    "print(f\"(#{len(files)})\", files[:6])"
   ]
  },
  {
   "cell_type": "code",
   "execution_count": 3,
   "id": "7bf44ba1",
   "metadata": {},
   "outputs": [
    {
     "data": {
      "text/plain": [
       "(False, True)"
      ]
     },
     "execution_count": 3,
     "metadata": {},
     "output_type": "execute_result"
    }
   ],
   "source": [
    "def is_IRMAS_train(pat: Path):\n",
    "    return str(pat).find(\"IRMAS_Train_Data\") != -1\n",
    "\n",
    "def is_IRMAS_valid(pat: Path):\n",
    "    return str(pat).find(\"IRMAS_Validation_Data\") != -1\n",
    "    \n",
    "song_path = Path(\"../Dataset/Dataset/IRMAS_Validation_Data/(02) dont kill the whale-2.wav\")\n",
    "is_IRMAS_train(song_path), is_IRMAS_valid(song_path)"
   ]
  },
  {
   "cell_type": "code",
   "execution_count": 4,
   "id": "dac7daab",
   "metadata": {},
   "outputs": [
    {
     "data": {
      "text/plain": [
       "['cel']"
      ]
     },
     "execution_count": 4,
     "metadata": {},
     "output_type": "execute_result"
    }
   ],
   "source": [
    "def get_IRMAS_train_label(pat: Path):\n",
    "    r = re.search(\"\\[[^(\\[\\])]+\\]\", pat.name)\n",
    "    if r:\n",
    "        return [r.group()[1:-1]]\n",
    "    return []\n",
    "song_path = Path(\"../Dataset/Dataset/IRMAS_Train_Data/cel/[cel][cla]0001__1.wav\")\n",
    "get_IRMAS_train_label(song_path)"
   ]
  },
  {
   "cell_type": "code",
   "execution_count": 5,
   "id": "51f9c5a8",
   "metadata": {},
   "outputs": [
    {
     "data": {
      "text/plain": [
       "['gel', 'voi']"
      ]
     },
     "execution_count": 5,
     "metadata": {},
     "output_type": "execute_result"
    }
   ],
   "source": [
    "def get_IRMAS_valid_label(pat: Path):\n",
    "    with open(os.path.splitext(str(pat))[0] + \".txt\") as file:\n",
    "        return file.read().split()\n",
    "song_path = Path(\"../Dataset/Dataset/IRMAS_Validation_Data/(02) dont kill the whale-2.wav\")\n",
    "get_IRMAS_valid_label(song_path)"
   ]
  },
  {
   "cell_type": "code",
   "execution_count": 6,
   "id": "e1c449e7",
   "metadata": {},
   "outputs": [
    {
     "data": {
      "text/plain": [
       "['gel', 'voi']"
      ]
     },
     "execution_count": 6,
     "metadata": {},
     "output_type": "execute_result"
    }
   ],
   "source": [
    "def get_label(pat: Path):\n",
    "    if is_IRMAS_train(pat):\n",
    "        return get_IRMAS_train_label(pat)\n",
    "    if is_IRMAS_valid(pat):\n",
    "        return get_IRMAS_valid_label(pat)\n",
    "song_path = Path(\"../Dataset/Dataset/IRMAS_Validation_Data/(02) dont kill the whale-2.wav\")\n",
    "get_label(song_path)"
   ]
  },
  {
   "cell_type": "markdown",
   "id": "04319057",
   "metadata": {},
   "source": [
    "## Get items"
   ]
  },
  {
   "cell_type": "code",
   "execution_count": null,
   "id": "a9610ae5",
   "metadata": {},
   "outputs": [],
   "source": [
    "n_fft = 1024\n",
    "hop_length = 512\n",
    "f_min = 20\n",
    "f_max = 8000"
   ]
  },
  {
   "cell_type": "code",
   "execution_count": null,
   "id": "630fe881",
   "metadata": {},
   "outputs": [
    {
     "ename": "NameError",
     "evalue": "name 'Path' is not defined",
     "output_type": "error",
     "traceback": [
      "\u001B[0;31m---------------------------------------------------------------------------\u001B[0m",
      "\u001B[0;31mNameError\u001B[0m                                 Traceback (most recent call last)",
      "Cell \u001B[0;32mIn[2], line 1\u001B[0m\n\u001B[0;32m----> 1\u001B[0m \u001B[38;5;28;01mdef\u001B[39;00m \u001B[38;5;21mget_spec\u001B[39m(pat: \u001B[43mPath\u001B[49m):\n\u001B[1;32m      2\u001B[0m     clip, sample_rate \u001B[38;5;241m=\u001B[39m librosa\u001B[38;5;241m.\u001B[39mload(pat, sr\u001B[38;5;241m=\u001B[39m\u001B[38;5;28;01mNone\u001B[39;00m)\n\u001B[1;32m      3\u001B[0m     clip \u001B[38;5;241m=\u001B[39m clip[:sample_rate\u001B[38;5;241m*\u001B[39m\u001B[38;5;241m3\u001B[39m]\n",
      "\u001B[0;31mNameError\u001B[0m: name 'Path' is not defined"
     ]
    }
   ],
   "source": [
    "def get_spec(pat: Path):\n",
    "    clip, sample_rate = librosa.load(pat, sr=None)\n",
    "    clip = clip[:sample_rate*3]\n",
    "    stft = librosa.stft(clip, n_fft=n_fft, hop_length=hop_length)\n",
    "    return stft"
   ]
  },
  {
   "cell_type": "code",
   "execution_count": null,
   "outputs": [],
   "source": [
    "def spec2mag(stft):\n",
    "    stft_magnitude, _ = librosa.magphase(stft)\n",
    "    stft_magnitude_db = librosa.amplitude_to_db(stft_magnitude)\n",
    "    return stft_magnitude_db"
   ],
   "metadata": {
    "collapsed": false
   }
  },
  {
   "cell_type": "code",
   "execution_count": null,
   "outputs": [],
   "source": [
    "def get_magspec(pat: Path):\n",
    "    return spec2mag(get_spec(pat))"
   ],
   "metadata": {
    "collapsed": false
   }
  },
  {
   "cell_type": "code",
   "execution_count": null,
   "id": "e46914c5",
   "metadata": {},
   "outputs": [],
   "source": [
    "def plot_magspec(stft_magnitude_db):\n",
    "    plot.title('Spectrogram of a wav file with piano music')\n",
    "    plot.imshow(spec)\n",
    "    plot.xlabel('Sample')\n",
    "    plot.ylabel('Amplitude')\n",
    "    \n",
    "song_path = Path(\"../Dataset/Dataset/IRMAS_Validation_Data/(02) dont kill the whale-2.wav\")\n",
    "spec = get_magspec(song_path)\n",
    "plot_magspec(spec)"
   ]
  },
  {
   "cell_type": "markdown",
   "id": "d9034c15",
   "metadata": {},
   "source": [
    "## Data augmentation"
   ]
  },
  {
   "cell_type": "markdown",
   "id": "567ab324",
   "metadata": {},
   "source": [
    "Combine two or more music files"
   ]
  },
  {
   "cell_type": "markdown",
   "id": "48987080",
   "metadata": {},
   "source": [
    "## Creating metrics"
   ]
  },
  {
   "cell_type": "code",
   "execution_count": 50,
   "id": "31cc402a",
   "metadata": {},
   "outputs": [
    {
     "data": {
      "text/plain": [
       "tensor(0.8333)"
      ]
     },
     "execution_count": 50,
     "metadata": {},
     "output_type": "execute_result"
    }
   ],
   "source": [
    "def acc(x, y):\n",
    "    return 1 - (((x > 0.5).float() - y).abs()).float().mean()\n",
    "acc(torch.tensor([[0.1, 0.9, 0.4], [0.2, 0.2, 0.6]]), torch.tensor([[1, 1, 0], [0, 0, 1]]))"
   ]
  },
  {
   "cell_type": "markdown",
   "id": "4f7f7689",
   "metadata": {},
   "source": [
    "## Building Dataloaders"
   ]
  },
  {
   "cell_type": "code",
   "execution_count": 11,
   "id": "17a8885e",
   "metadata": {},
   "outputs": [],
   "source": [
    "sdbl = DataBlock(\n",
    "    blocks = [ImageBlock(), MultiCategoryBlock],\n",
    "    get_items = get_song_files,\n",
    "    splitter = RandomSplitter(),\n",
    "    get_x = get_magspec,\n",
    "    get_y = get_label\n",
    ")"
   ]
  },
  {
   "cell_type": "code",
   "execution_count": 12,
   "id": "a0ab4ae3",
   "metadata": {},
   "outputs": [],
   "source": [
    "dls = sdbl.dataloaders(path, bs=64)"
   ]
  },
  {
   "cell_type": "code",
   "execution_count": 13,
   "id": "45ae786e",
   "metadata": {},
   "outputs": [
    {
     "name": "stdout",
     "output_type": "stream",
     "text": [
      "2300\n",
      "574\n"
     ]
    },
    {
     "data": {
      "text/plain": [
       "<fastai.data.core.TfmdDL at 0x7f9e06dae080>"
      ]
     },
     "execution_count": 13,
     "metadata": {},
     "output_type": "execute_result"
    }
   ],
   "source": [
    "print(len(dls.train.dataset))\n",
    "print(len(dls.valid.dataset))\n",
    "dls.train"
   ]
  },
  {
   "cell_type": "code",
   "execution_count": 14,
   "id": "4b19a72f",
   "metadata": {},
   "outputs": [
    {
     "name": "stdout",
     "output_type": "stream",
     "text": [
      "['cel', 'cla', 'flu', 'gac', 'gel', 'org', 'pia', 'sax', 'tru', 'vio', 'voi']\n"
     ]
    }
   ],
   "source": [
    "# sdbl.summary(path)\n",
    "print(dls.vocab)\n",
    "# dls.train.show_batch()"
   ]
  },
  {
   "cell_type": "markdown",
   "id": "566a8be2",
   "metadata": {},
   "source": [
    "## Track GPU usage"
   ]
  },
  {
   "cell_type": "code",
   "execution_count": 15,
   "id": "f3be8ea2",
   "metadata": {},
   "outputs": [
    {
     "data": {
      "text/plain": [
       "(True, 1, 0)"
      ]
     },
     "execution_count": 15,
     "metadata": {},
     "output_type": "execute_result"
    }
   ],
   "source": [
    "torch.cuda.is_available(), torch.cuda.device_count(), torch.cuda.current_device()"
   ]
  },
  {
   "cell_type": "code",
   "execution_count": 16,
   "id": "e4c57c6b",
   "metadata": {},
   "outputs": [
    {
     "data": {
      "text/plain": [
       "'NVIDIA GeForce GTX 1070'"
      ]
     },
     "execution_count": 16,
     "metadata": {},
     "output_type": "execute_result"
    }
   ],
   "source": [
    "torch.cuda.get_device_name(0)"
   ]
  },
  {
   "cell_type": "code",
   "execution_count": 29,
   "id": "88b79f05",
   "metadata": {},
   "outputs": [],
   "source": [
    "import gc\n",
    "def report_gpu():\n",
    "    print('Memory Usage:')\n",
    "    print('Allocated:', round(torch.cuda.memory_allocated(0)/1024**3,1), 'GB')\n",
    "    print('Cached:   ', round(torch.cuda.memory_reserved(0)/1024**3,1), 'GB')\n",
    "    gc.collect()\n",
    "    torch.cuda.empty_cache()"
   ]
  },
  {
   "cell_type": "code",
   "execution_count": 30,
   "id": "d0d527da",
   "metadata": {},
   "outputs": [
    {
     "name": "stdout",
     "output_type": "stream",
     "text": [
      "Memory Usage:\n",
      "Allocated: 0.3 GB\n",
      "Cached:    3.3 GB\n"
     ]
    }
   ],
   "source": [
    "report_gpu()"
   ]
  },
  {
   "cell_type": "markdown",
   "id": "c19b8d23",
   "metadata": {},
   "source": [
    "## Building the model"
   ]
  },
  {
   "cell_type": "code",
   "execution_count": 51,
   "id": "e34950ef",
   "metadata": {},
   "outputs": [
    {
     "data": {
      "text/html": [
       "\n",
       "<style>\n",
       "    /* Turns off some styling */\n",
       "    progress {\n",
       "        /* gets rid of default border in Firefox and Opera. */\n",
       "        border: none;\n",
       "        /* Needs to be in here for Safari polyfill so background images work as expected. */\n",
       "        background-size: auto;\n",
       "    }\n",
       "    progress:not([value]), progress:not([value])::-webkit-progress-bar {\n",
       "        background: repeating-linear-gradient(45deg, #7e7e7e, #7e7e7e 10px, #5c5c5c 10px, #5c5c5c 20px);\n",
       "    }\n",
       "    .progress-bar-interrupted, .progress-bar-interrupted::-webkit-progress-bar {\n",
       "        background: #F44336;\n",
       "    }\n",
       "</style>\n"
      ],
      "text/plain": [
       "<IPython.core.display.HTML object>"
      ]
     },
     "metadata": {},
     "output_type": "display_data"
    },
    {
     "data": {
      "text/html": [
       "<table border=\"1\" class=\"dataframe\">\n",
       "  <thead>\n",
       "    <tr style=\"text-align: left;\">\n",
       "      <th>epoch</th>\n",
       "      <th>train_loss</th>\n",
       "      <th>valid_loss</th>\n",
       "      <th>acc</th>\n",
       "      <th>time</th>\n",
       "    </tr>\n",
       "  </thead>\n",
       "  <tbody>\n",
       "    <tr>\n",
       "      <td>0</td>\n",
       "      <td>0.912555</td>\n",
       "      <td>0.709785</td>\n",
       "      <td>0.703041</td>\n",
       "      <td>00:44</td>\n",
       "    </tr>\n",
       "  </tbody>\n",
       "</table>"
      ],
      "text/plain": [
       "<IPython.core.display.HTML object>"
      ]
     },
     "metadata": {},
     "output_type": "display_data"
    },
    {
     "data": {
      "text/html": [
       "\n",
       "<style>\n",
       "    /* Turns off some styling */\n",
       "    progress {\n",
       "        /* gets rid of default border in Firefox and Opera. */\n",
       "        border: none;\n",
       "        /* Needs to be in here for Safari polyfill so background images work as expected. */\n",
       "        background-size: auto;\n",
       "    }\n",
       "    progress:not([value]), progress:not([value])::-webkit-progress-bar {\n",
       "        background: repeating-linear-gradient(45deg, #7e7e7e, #7e7e7e 10px, #5c5c5c 10px, #5c5c5c 20px);\n",
       "    }\n",
       "    .progress-bar-interrupted, .progress-bar-interrupted::-webkit-progress-bar {\n",
       "        background: #F44336;\n",
       "    }\n",
       "</style>\n"
      ],
      "text/plain": [
       "<IPython.core.display.HTML object>"
      ]
     },
     "metadata": {},
     "output_type": "display_data"
    },
    {
     "data": {
      "text/html": [
       "<table border=\"1\" class=\"dataframe\">\n",
       "  <thead>\n",
       "    <tr style=\"text-align: left;\">\n",
       "      <th>epoch</th>\n",
       "      <th>train_loss</th>\n",
       "      <th>valid_loss</th>\n",
       "      <th>acc</th>\n",
       "      <th>time</th>\n",
       "    </tr>\n",
       "  </thead>\n",
       "  <tbody>\n",
       "    <tr>\n",
       "      <td>0</td>\n",
       "      <td>0.689541</td>\n",
       "      <td>0.558350</td>\n",
       "      <td>0.809313</td>\n",
       "      <td>01:32</td>\n",
       "    </tr>\n",
       "  </tbody>\n",
       "</table>"
      ],
      "text/plain": [
       "<IPython.core.display.HTML object>"
      ]
     },
     "metadata": {},
     "output_type": "display_data"
    }
   ],
   "source": [
    "learn = vision_learner(dls, resnet18, metrics=acc)\n",
    "learn.fine_tune(1)"
   ]
  },
  {
   "cell_type": "code",
   "execution_count": 56,
   "id": "3aa5bb6a",
   "metadata": {},
   "outputs": [],
   "source": [
    "def train(arch, accum=1, finetune=True, epochs=12, bs=64):\n",
    "    _dls = DataBlock(\n",
    "        blocks = [ImageBlock(), MultiCategoryBlock],\n",
    "        get_items = get_song_files,\n",
    "        splitter = RandomSplitter(),\n",
    "        get_x = get_magspec,\n",
    "        get_y = get_label\n",
    "    ).dataloaders(path, bs=bs)\n",
    "    cbs = GradientAccumulation(64) if accum else []\n",
    "    learn = vision_learner(_dls, arch, metrics=acc, cbs=cbs).to_fp16()\n",
    "    if finetune:\n",
    "        learn.fine_tune(epochs, 0.01)\n",
    "        # return learn.tta(dl=dls.test_dl(tst_files))\n",
    "    else:\n",
    "        learn.unfreeze()\n",
    "        learn.fit_one_cycle(epochs, 0.01)"
   ]
  },
  {
   "cell_type": "code",
   "execution_count": 58,
   "id": "217b68e7",
   "metadata": {},
   "outputs": [
    {
     "data": {
      "text/html": [
       "\n",
       "<style>\n",
       "    /* Turns off some styling */\n",
       "    progress {\n",
       "        /* gets rid of default border in Firefox and Opera. */\n",
       "        border: none;\n",
       "        /* Needs to be in here for Safari polyfill so background images work as expected. */\n",
       "        background-size: auto;\n",
       "    }\n",
       "    progress:not([value]), progress:not([value])::-webkit-progress-bar {\n",
       "        background: repeating-linear-gradient(45deg, #7e7e7e, #7e7e7e 10px, #5c5c5c 10px, #5c5c5c 20px);\n",
       "    }\n",
       "    .progress-bar-interrupted, .progress-bar-interrupted::-webkit-progress-bar {\n",
       "        background: #F44336;\n",
       "    }\n",
       "</style>\n"
      ],
      "text/plain": [
       "<IPython.core.display.HTML object>"
      ]
     },
     "metadata": {},
     "output_type": "display_data"
    },
    {
     "data": {
      "text/html": [
       "<table border=\"1\" class=\"dataframe\">\n",
       "  <thead>\n",
       "    <tr style=\"text-align: left;\">\n",
       "      <th>epoch</th>\n",
       "      <th>train_loss</th>\n",
       "      <th>valid_loss</th>\n",
       "      <th>acc</th>\n",
       "      <th>time</th>\n",
       "    </tr>\n",
       "  </thead>\n",
       "  <tbody>\n",
       "    <tr>\n",
       "      <td>0</td>\n",
       "      <td>0.745288</td>\n",
       "      <td>0.495231</td>\n",
       "      <td>0.824517</td>\n",
       "      <td>01:23</td>\n",
       "    </tr>\n",
       "  </tbody>\n",
       "</table>"
      ],
      "text/plain": [
       "<IPython.core.display.HTML object>"
      ]
     },
     "metadata": {},
     "output_type": "display_data"
    },
    {
     "data": {
      "text/html": [
       "\n",
       "<style>\n",
       "    /* Turns off some styling */\n",
       "    progress {\n",
       "        /* gets rid of default border in Firefox and Opera. */\n",
       "        border: none;\n",
       "        /* Needs to be in here for Safari polyfill so background images work as expected. */\n",
       "        background-size: auto;\n",
       "    }\n",
       "    progress:not([value]), progress:not([value])::-webkit-progress-bar {\n",
       "        background: repeating-linear-gradient(45deg, #7e7e7e, #7e7e7e 10px, #5c5c5c 10px, #5c5c5c 20px);\n",
       "    }\n",
       "    .progress-bar-interrupted, .progress-bar-interrupted::-webkit-progress-bar {\n",
       "        background: #F44336;\n",
       "    }\n",
       "</style>\n"
      ],
      "text/plain": [
       "<IPython.core.display.HTML object>"
      ]
     },
     "metadata": {},
     "output_type": "display_data"
    },
    {
     "data": {
      "text/html": [
       "<table border=\"1\" class=\"dataframe\">\n",
       "  <thead>\n",
       "    <tr style=\"text-align: left;\">\n",
       "      <th>epoch</th>\n",
       "      <th>train_loss</th>\n",
       "      <th>valid_loss</th>\n",
       "      <th>acc</th>\n",
       "      <th>time</th>\n",
       "    </tr>\n",
       "  </thead>\n",
       "  <tbody>\n",
       "    <tr>\n",
       "      <td>0</td>\n",
       "      <td>0.293523</td>\n",
       "      <td>0.274175</td>\n",
       "      <td>0.897371</td>\n",
       "      <td>01:12</td>\n",
       "    </tr>\n",
       "    <tr>\n",
       "      <td>1</td>\n",
       "      <td>0.249524</td>\n",
       "      <td>0.298222</td>\n",
       "      <td>0.892936</td>\n",
       "      <td>01:10</td>\n",
       "    </tr>\n",
       "    <tr>\n",
       "      <td>2</td>\n",
       "      <td>0.205513</td>\n",
       "      <td>0.223830</td>\n",
       "      <td>0.920177</td>\n",
       "      <td>01:15</td>\n",
       "    </tr>\n",
       "    <tr>\n",
       "      <td>3</td>\n",
       "      <td>0.153906</td>\n",
       "      <td>0.175196</td>\n",
       "      <td>0.935382</td>\n",
       "      <td>01:26</td>\n",
       "    </tr>\n",
       "    <tr>\n",
       "      <td>4</td>\n",
       "      <td>0.102890</td>\n",
       "      <td>0.162720</td>\n",
       "      <td>0.938074</td>\n",
       "      <td>01:17</td>\n",
       "    </tr>\n",
       "    <tr>\n",
       "      <td>5</td>\n",
       "      <td>0.068943</td>\n",
       "      <td>0.156001</td>\n",
       "      <td>0.939816</td>\n",
       "      <td>01:21</td>\n",
       "    </tr>\n",
       "  </tbody>\n",
       "</table>"
      ],
      "text/plain": [
       "<IPython.core.display.HTML object>"
      ]
     },
     "metadata": {},
     "output_type": "display_data"
    },
    {
     "ename": "NameError",
     "evalue": "name 'tst_files' is not defined",
     "output_type": "error",
     "traceback": [
      "\u001B[0;31m---------------------------------------------------------------------------\u001B[0m",
      "\u001B[0;31mNameError\u001B[0m                                 Traceback (most recent call last)",
      "Cell \u001B[0;32mIn[58], line 1\u001B[0m\n\u001B[0;32m----> 1\u001B[0m \u001B[43mtrain\u001B[49m\u001B[43m(\u001B[49m\u001B[43mresnet18\u001B[49m\u001B[43m,\u001B[49m\u001B[43m \u001B[49m\u001B[43mepochs\u001B[49m\u001B[38;5;241;43m=\u001B[39;49m\u001B[38;5;241;43m6\u001B[39;49m\u001B[43m)\u001B[49m\n",
      "Cell \u001B[0;32mIn[56], line 13\u001B[0m, in \u001B[0;36mtrain\u001B[0;34m(arch, accum, finetune, epochs, bs)\u001B[0m\n\u001B[1;32m     11\u001B[0m \u001B[38;5;28;01mif\u001B[39;00m finetune:\n\u001B[1;32m     12\u001B[0m     learn\u001B[38;5;241m.\u001B[39mfine_tune(epochs, \u001B[38;5;241m0.01\u001B[39m)\n\u001B[0;32m---> 13\u001B[0m     \u001B[38;5;28;01mreturn\u001B[39;00m learn\u001B[38;5;241m.\u001B[39mtta(dl\u001B[38;5;241m=\u001B[39mdls\u001B[38;5;241m.\u001B[39mtest_dl(\u001B[43mtst_files\u001B[49m))\n\u001B[1;32m     14\u001B[0m \u001B[38;5;28;01melse\u001B[39;00m:\n\u001B[1;32m     15\u001B[0m     learn\u001B[38;5;241m.\u001B[39munfreeze()\n",
      "\u001B[0;31mNameError\u001B[0m: name 'tst_files' is not defined"
     ]
    }
   ],
   "source": [
    "train(resnet18, epochs=6)"
   ]
  },
  {
   "cell_type": "code",
   "execution_count": null,
   "id": "06212e17",
   "metadata": {},
   "outputs": [],
   "source": []
  }
 ],
 "metadata": {
  "kernelspec": {
   "display_name": "Python 3 (ipykernel)",
   "language": "python",
   "name": "python3"
  },
  "language_info": {
   "codemirror_mode": {
    "name": "ipython",
    "version": 3
   },
   "file_extension": ".py",
   "mimetype": "text/x-python",
   "name": "python",
   "nbconvert_exporter": "python",
   "pygments_lexer": "ipython3",
   "version": "3.10.9"
  }
 },
 "nbformat": 4,
 "nbformat_minor": 5
}
